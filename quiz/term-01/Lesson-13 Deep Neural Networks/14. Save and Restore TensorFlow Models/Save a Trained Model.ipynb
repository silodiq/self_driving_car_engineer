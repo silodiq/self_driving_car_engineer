{
 "cells": [
  {
   "cell_type": "code",
   "execution_count": 2,
   "metadata": {},
   "outputs": [],
   "source": [
    "import tensorflow as tf"
   ]
  },
  {
   "cell_type": "markdown",
   "metadata": {},
   "source": [
    "First start with a model:"
   ]
  },
  {
   "cell_type": "code",
   "execution_count": 3,
   "metadata": {},
   "outputs": [
    {
     "name": "stdout",
     "output_type": "stream",
     "text": [
      "Extracting .\\train-images-idx3-ubyte.gz\n",
      "Extracting .\\train-labels-idx1-ubyte.gz\n",
      "Extracting .\\t10k-images-idx3-ubyte.gz\n",
      "Extracting .\\t10k-labels-idx1-ubyte.gz\n"
     ]
    }
   ],
   "source": [
    "# Remove previous Tensors and Operations\n",
    "tf.reset_default_graph()\n",
    "\n",
    "from tensorflow.examples.tutorials.mnist import input_data\n",
    "import numpy as np\n",
    "\n",
    "learning_rate = 0.001\n",
    "n_input = 784  # MNIST data input (img shape: 28*28)\n",
    "n_classes = 10  # MNIST total classes (0-9 digits)\n",
    "\n",
    "# Import MNIST data\n",
    "mnist = input_data.read_data_sets('.', one_hot=True)\n",
    "\n",
    "# Features and Labels\n",
    "features = tf.placeholder(tf.float32, [None, n_input])\n",
    "labels = tf.placeholder(tf.float32, [None, n_classes])\n",
    "\n",
    "# Weights & bias\n",
    "weights = tf.Variable(tf.random_normal([n_input, n_classes]))\n",
    "bias = tf.Variable(tf.random_normal([n_classes]))\n",
    "\n",
    "# Logits - xW + b\n",
    "logits = tf.add(tf.matmul(features, weights), bias)\n",
    "\n",
    "# Define loss and optimizer\n",
    "cost = tf.reduce_mean(\\\n",
    "    tf.nn.softmax_cross_entropy_with_logits(logits=logits, labels=labels))\n",
    "optimizer = tf.train.GradientDescentOptimizer(learning_rate=learning_rate)\\\n",
    "    .minimize(cost)\n",
    "\n",
    "# Calculate accuracy\n",
    "correct_prediction = tf.equal(tf.argmax(logits, 1), tf.argmax(labels, 1))\n",
    "accuracy = tf.reduce_mean(tf.cast(correct_prediction, tf.float32))"
   ]
  },
  {
   "cell_type": "markdown",
   "metadata": {},
   "source": [
    "Let's train that model, then save the weights:"
   ]
  },
  {
   "cell_type": "code",
   "execution_count": 11,
   "metadata": {},
   "outputs": [
    {
     "name": "stdout",
     "output_type": "stream",
     "text": [
      "Epoch 0   - Validation Accuracy: 0.10660000145435333\n",
      "Epoch 10  - Validation Accuracy: 0.2590000033378601\n",
      "Epoch 20  - Validation Accuracy: 0.3937999904155731\n",
      "Epoch 30  - Validation Accuracy: 0.4878000020980835\n",
      "Epoch 40  - Validation Accuracy: 0.5577999949455261\n",
      "Epoch 50  - Validation Accuracy: 0.6014000177383423\n",
      "Epoch 60  - Validation Accuracy: 0.6349999904632568\n",
      "Epoch 70  - Validation Accuracy: 0.6601999998092651\n",
      "Epoch 80  - Validation Accuracy: 0.6830000281333923\n",
      "Epoch 90  - Validation Accuracy: 0.7031999826431274\n",
      "Epoch 100 - Validation Accuracy: 0.7218000292778015\n",
      "Epoch 110 - Validation Accuracy: 0.7364000082015991\n",
      "Epoch 120 - Validation Accuracy: 0.746399998664856\n",
      "Epoch 130 - Validation Accuracy: 0.7573999762535095\n",
      "Epoch 140 - Validation Accuracy: 0.7653999924659729\n",
      "Epoch 150 - Validation Accuracy: 0.7706000208854675\n",
      "Epoch 160 - Validation Accuracy: 0.776199996471405\n",
      "Epoch 170 - Validation Accuracy: 0.7807999849319458\n",
      "Epoch 180 - Validation Accuracy: 0.7870000004768372\n",
      "Epoch 190 - Validation Accuracy: 0.7932000160217285\n",
      "Epoch 200 - Validation Accuracy: 0.7968000173568726\n",
      "Epoch 210 - Validation Accuracy: 0.8015999794006348\n",
      "Epoch 220 - Validation Accuracy: 0.8077999949455261\n",
      "Epoch 230 - Validation Accuracy: 0.8112000226974487\n",
      "Epoch 240 - Validation Accuracy: 0.8154000043869019\n",
      "Epoch 250 - Validation Accuracy: 0.8181999921798706\n",
      "Epoch 260 - Validation Accuracy: 0.8203999996185303\n",
      "Epoch 270 - Validation Accuracy: 0.8217999935150146\n",
      "Epoch 280 - Validation Accuracy: 0.8227999806404114\n",
      "Epoch 290 - Validation Accuracy: 0.824999988079071\n",
      "Epoch 300 - Validation Accuracy: 0.8271999955177307\n",
      "Epoch 310 - Validation Accuracy: 0.8289999961853027\n",
      "Epoch 320 - Validation Accuracy: 0.8306000232696533\n",
      "Epoch 330 - Validation Accuracy: 0.8321999907493591\n",
      "Epoch 340 - Validation Accuracy: 0.8327999711036682\n",
      "Epoch 350 - Validation Accuracy: 0.8343999981880188\n",
      "Epoch 360 - Validation Accuracy: 0.8360000252723694\n",
      "Epoch 370 - Validation Accuracy: 0.8379999995231628\n",
      "Epoch 380 - Validation Accuracy: 0.8389999866485596\n",
      "Epoch 390 - Validation Accuracy: 0.8399999737739563\n",
      "Epoch 400 - Validation Accuracy: 0.8407999873161316\n",
      "Epoch 410 - Validation Accuracy: 0.8420000076293945\n",
      "Epoch 420 - Validation Accuracy: 0.8434000015258789\n",
      "Epoch 430 - Validation Accuracy: 0.8450000286102295\n",
      "Epoch 440 - Validation Accuracy: 0.84579998254776\n",
      "Epoch 450 - Validation Accuracy: 0.8468000292778015\n",
      "Epoch 460 - Validation Accuracy: 0.8474000096321106\n",
      "Epoch 470 - Validation Accuracy: 0.8483999967575073\n",
      "Epoch 480 - Validation Accuracy: 0.8492000102996826\n",
      "Epoch 490 - Validation Accuracy: 0.8507999777793884\n",
      "Epoch 500 - Validation Accuracy: 0.8518000245094299\n",
      "Epoch 510 - Validation Accuracy: 0.8528000116348267\n",
      "Epoch 520 - Validation Accuracy: 0.8533999919891357\n",
      "Epoch 530 - Validation Accuracy: 0.8547999858856201\n",
      "Epoch 540 - Validation Accuracy: 0.8551999926567078\n",
      "Epoch 550 - Validation Accuracy: 0.8555999994277954\n",
      "Epoch 560 - Validation Accuracy: 0.8564000129699707\n",
      "Epoch 570 - Validation Accuracy: 0.8579999804496765\n",
      "Epoch 580 - Validation Accuracy: 0.8583999872207642\n",
      "Epoch 590 - Validation Accuracy: 0.8583999872207642\n",
      "Epoch 600 - Validation Accuracy: 0.8592000007629395\n",
      "Epoch 610 - Validation Accuracy: 0.8600000143051147\n",
      "Epoch 620 - Validation Accuracy: 0.8604000210762024\n",
      "Epoch 630 - Validation Accuracy: 0.8611999750137329\n",
      "Epoch 640 - Validation Accuracy: 0.8618000149726868\n",
      "Epoch 650 - Validation Accuracy: 0.8626000285148621\n",
      "Epoch 660 - Validation Accuracy: 0.8626000285148621\n",
      "Epoch 670 - Validation Accuracy: 0.8636000156402588\n",
      "Epoch 680 - Validation Accuracy: 0.8637999892234802\n",
      "Epoch 690 - Validation Accuracy: 0.8646000027656555\n",
      "Epoch 700 - Validation Accuracy: 0.8650000095367432\n",
      "Epoch 710 - Validation Accuracy: 0.8659999966621399\n",
      "Epoch 720 - Validation Accuracy: 0.866599977016449\n",
      "Epoch 730 - Validation Accuracy: 0.8668000102043152\n",
      "Epoch 740 - Validation Accuracy: 0.8668000102043152\n",
      "Epoch 750 - Validation Accuracy: 0.8672000169754028\n",
      "Epoch 760 - Validation Accuracy: 0.8677999973297119\n",
      "Epoch 770 - Validation Accuracy: 0.8679999709129333\n",
      "Epoch 780 - Validation Accuracy: 0.868399977684021\n",
      "Epoch 790 - Validation Accuracy: 0.868399977684021\n",
      "Epoch 800 - Validation Accuracy: 0.8691999912261963\n",
      "Epoch 810 - Validation Accuracy: 0.8695999979972839\n",
      "Epoch 820 - Validation Accuracy: 0.870199978351593\n",
      "Epoch 830 - Validation Accuracy: 0.8708000183105469\n",
      "Epoch 840 - Validation Accuracy: 0.8709999918937683\n",
      "Epoch 850 - Validation Accuracy: 0.8709999918937683\n",
      "Epoch 860 - Validation Accuracy: 0.8712000250816345\n",
      "Epoch 870 - Validation Accuracy: 0.871399998664856\n",
      "Epoch 880 - Validation Accuracy: 0.8715999722480774\n",
      "Epoch 890 - Validation Accuracy: 0.8718000054359436\n",
      "Epoch 900 - Validation Accuracy: 0.8723999857902527\n",
      "Epoch 910 - Validation Accuracy: 0.8726000189781189\n",
      "Epoch 920 - Validation Accuracy: 0.8727999925613403\n",
      "Epoch 930 - Validation Accuracy: 0.8726000189781189\n",
      "Epoch 940 - Validation Accuracy: 0.8733999729156494\n",
      "Epoch 950 - Validation Accuracy: 0.8736000061035156\n",
      "Epoch 960 - Validation Accuracy: 0.8737999796867371\n",
      "Epoch 970 - Validation Accuracy: 0.8737999796867371\n",
      "Epoch 980 - Validation Accuracy: 0.8744000196456909\n",
      "Epoch 990 - Validation Accuracy: 0.8748000264167786\n",
      "Trained Model Saved.\n"
     ]
    }
   ],
   "source": [
    "import math\n",
    "\n",
    "save_file = './train_model.ckpt'\n",
    "batch_size = 128\n",
    "n_epochs = 1000\n",
    "\n",
    "saver = tf.train.Saver()\n",
    "\n",
    "# Launch the graph\n",
    "with tf.Session() as sess:\n",
    "    sess.run(tf.global_variables_initializer())\n",
    "\n",
    "    # Training cycle\n",
    "    for epoch in range(n_epochs):\n",
    "        total_batch = math.ceil(mnist.train.num_examples / batch_size)\n",
    "\n",
    "        # Loop over all batches\n",
    "        for i in range(total_batch):\n",
    "            batch_features, batch_labels = mnist.train.next_batch(batch_size)\n",
    "            sess.run(\n",
    "                optimizer,\n",
    "                feed_dict={features: batch_features, labels: batch_labels})\n",
    "\n",
    "        # Print status for every 10 epochs\n",
    "        if epoch % 10 == 0:\n",
    "            valid_accuracy = sess.run(\n",
    "                accuracy,\n",
    "                feed_dict={\n",
    "                    features: mnist.validation.images,\n",
    "                    labels: mnist.validation.labels})\n",
    "            print('Epoch {:<3} - Validation Accuracy: {}'.format(\n",
    "                epoch,\n",
    "                valid_accuracy))\n",
    "\n",
    "    # Save the model\n",
    "    saver.save(sess, save_file)\n",
    "    print('Trained Model Saved.')"
   ]
  },
  {
   "cell_type": "markdown",
   "metadata": {},
   "source": [
    "Load a Trained Model\n",
    "Let's load the weights and bias from memory, then check the test accuracy."
   ]
  },
  {
   "cell_type": "code",
   "execution_count": 12,
   "metadata": {},
   "outputs": [
    {
     "name": "stdout",
     "output_type": "stream",
     "text": [
      "INFO:tensorflow:Restoring parameters from ./train_model.ckpt\n",
      "Test Accuracy: 0.8712999820709229\n"
     ]
    }
   ],
   "source": [
    "saver = tf.train.Saver()\n",
    "\n",
    "# Launch the graph\n",
    "with tf.Session() as sess:\n",
    "    saver.restore(sess, save_file)\n",
    "\n",
    "    test_accuracy = sess.run(\n",
    "        accuracy,\n",
    "        feed_dict={features: mnist.test.images, labels: mnist.test.labels})\n",
    "\n",
    "print('Test Accuracy: {}'.format(test_accuracy))"
   ]
  },
  {
   "cell_type": "code",
   "execution_count": null,
   "metadata": {},
   "outputs": [],
   "source": []
  }
 ],
 "metadata": {
  "kernelspec": {
   "display_name": "Python 3",
   "language": "python",
   "name": "python3"
  },
  "language_info": {
   "codemirror_mode": {
    "name": "ipython",
    "version": 3
   },
   "file_extension": ".py",
   "mimetype": "text/x-python",
   "name": "python",
   "nbconvert_exporter": "python",
   "pygments_lexer": "ipython3",
   "version": "3.5.6"
  },
  "widgets": {
   "state": {},
   "version": "1.1.2"
  }
 },
 "nbformat": 4,
 "nbformat_minor": 2
}
